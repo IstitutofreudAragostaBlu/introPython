{
 "cells": [
  {
   "cell_type": "code",
   "execution_count": 2,
   "id": "d0337b4c",
   "metadata": {},
   "outputs": [
    {
     "name": "stdout",
     "output_type": "stream",
     "text": [
      "Hello world\n"
     ]
    }
   ],
   "source": [
    "print(\"Hello world\") #MEOWWWW :333"
   ]
  },
  {
   "cell_type": "code",
   "execution_count": 4,
   "id": "aa15c1c3",
   "metadata": {},
   "outputs": [
    {
     "name": "stdout",
     "output_type": "stream",
     "text": [
      "inserisci il tuo nome: mari\n",
      "Ciao, mari !\n"
     ]
    }
   ],
   "source": [
    "nome=input(\"inserisci il tuo nome: \")\n",
    "print(\"Ciao,\", nome,\"!\")"
   ]
  },
  {
   "cell_type": "code",
   "execution_count": 7,
   "id": "a4e167f0",
   "metadata": {},
   "outputs": [
    {
     "name": "stdout",
     "output_type": "stream",
     "text": [
      "inserisci nome della viavignati\n",
      "hai inserito vignati corretto?\n"
     ]
    }
   ],
   "source": [
    "via=input(\"inserisci nome della via\")\n",
    "print(\"hai inserito\",via,\"corretto?\")"
   ]
  },
  {
   "cell_type": "code",
   "execution_count": 9,
   "id": "7c66e983",
   "metadata": {
    "scrolled": true
   },
   "outputs": [
    {
     "name": "stdout",
     "output_type": "stream",
     "text": [
      "inserisci il tuo nome:mari\n",
      "ciao, mari !\n",
      "ciao, mari !\n",
      "ciao, mari !\n",
      "ciao, mari !\n",
      "ciao, mari !\n",
      "ciao, mari !\n",
      "ciao, mari !\n",
      "ciao, mari !\n",
      "ciao, mari !\n",
      "ciao, mari !\n"
     ]
    }
   ],
   "source": [
    "nome=input(\"inserisci il tuo nome:\")\n",
    "for i in range(10): #contatore con limitato (10)\n",
    "    print(\"ciao,\",nome,\"!\") #python ripete solo la parte di codice indentata, ovvero spostata a destra."
   ]
  },
  {
   "cell_type": "code",
   "execution_count": 11,
   "id": "3dce5670",
   "metadata": {},
   "outputs": [
    {
     "name": "stdout",
     "output_type": "stream",
     "text": [
      "inserisci il primo numero: 5\n",
      "inserisci il secondo numero 7\n",
      "la somma è: 12\n"
     ]
    }
   ],
   "source": [
    "numero1 = int(input(\"inserisci il primo numero: \"))\n",
    "numero2 = int(input(\"inserisci il secondo numero \"))\n",
    "somma = numero1 + numero2\n",
    "print(\"la somma è:\", somma)"
   ]
  },
  {
   "cell_type": "code",
   "execution_count": 12,
   "id": "c8069e3e",
   "metadata": {},
   "outputs": [
    {
     "name": "stdout",
     "output_type": "stream",
     "text": [
      "la sottrazione è: -2\n"
     ]
    }
   ],
   "source": [
    "sottrazione = numero1 - numero2\n",
    "print(\"la sottrazione è:\", int(sottrazione))"
   ]
  },
  {
   "cell_type": "code",
   "execution_count": 2,
   "id": "48f56997",
   "metadata": {},
   "outputs": [
    {
     "name": "stdout",
     "output_type": "stream",
     "text": [
      "inserisci il primo numero: 5\n",
      "inserisci il secondo numero 6\n",
      "La moltiplicazione è: 30\n"
     ]
    }
   ],
   "source": [
    "numero1 = int(input(\"inserisci il primo numero: \"))\n",
    "numero2 = int(input(\"inserisci il secondo numero \"))\n",
    "moltiplicazione = numero1 * numero2\n",
    "print(\"La moltiplicazione è:\", moltiplicazione)"
   ]
  },
  {
   "cell_type": "code",
   "execution_count": 3,
   "id": "bc3fe24a",
   "metadata": {},
   "outputs": [
    {
     "name": "stdout",
     "output_type": "stream",
     "text": [
      "La divisione è: 0.8333333333333334\n"
     ]
    }
   ],
   "source": [
    "divisione = numero1 / numero2\n",
    "print(\"La divisione è:\", divisione)"
   ]
  },
  {
   "cell_type": "code",
   "execution_count": 5,
   "id": "893b3b74",
   "metadata": {},
   "outputs": [
    {
     "name": "stdout",
     "output_type": "stream",
     "text": [
      "inserisci il numero: 2\n",
      "inserisci il numero: 5\n",
      "La divisione è: 0.4\n"
     ]
    }
   ],
   "source": [
    "numero1 = int(input(\"inserisci il numero: \"))\n",
    "numero2 = int(input(\"inserisci il numero: \"))\n",
    "divisione = numero1 / numero2\n",
    "print(\"La divisione è:\", divisione)"
   ]
  },
  {
   "cell_type": "code",
   "execution_count": 10,
   "id": "8688bc6b",
   "metadata": {
    "scrolled": true
   },
   "outputs": [
    {
     "name": "stdout",
     "output_type": "stream",
     "text": [
      "1\n",
      "2\n",
      "3\n",
      "4\n",
      "5\n",
      "6\n",
      "7\n",
      "8\n",
      "9\n",
      "10\n"
     ]
    }
   ],
   "source": [
    "for numero in range(1,11): #numeri da 1 a 10, questo perché secondo il computer, il primo numero è 0.\n",
    "    print(numero)"
   ]
  },
  {
   "cell_type": "code",
   "execution_count": 7,
   "id": "5c9e5eaf",
   "metadata": {},
   "outputs": [
    {
     "name": "stdout",
     "output_type": "stream",
     "text": [
      "Inserisci l'operazione (+,-,*,/): &\n",
      "Inserisci il primo numero: 5\n",
      "Inserisci il secondo numero: 7\n",
      "Il risultato è: Operazione non valida\n"
     ]
    }
   ],
   "source": [
    "#Calcolatrice Python con decisioni\n",
    "\n",
    "operazione=input(\"Inserisci l'operazione (+,-,*,/): \")\n",
    "\n",
    "numero1=float(input(\"Inserisci il primo numero: \"))\n",
    "numero2=float(input(\"Inserisci il secondo numero: \"))\n",
    "\n",
    "if operazione == \"+\": #i 2 uguali vengono usati per confrontare\n",
    "    risultato = numero1+numero2\n",
    "elif operazione == \"-\": #Elif = else if\n",
    "    risultato = numero1-numero2\n",
    "elif operazione == \"*\":\n",
    "    risultato = numero1*numero2\n",
    "elif operazione == \"/\":\n",
    "    risultato = numero1/numero2\n",
    "else:\n",
    "    risultato = \"Operazione non valida\"\n",
    "print(\"Il risultato è:\", risultato)"
   ]
  },
  {
   "cell_type": "code",
   "execution_count": 10,
   "id": "c538fdcd",
   "metadata": {},
   "outputs": [
    {
     "name": "stdout",
     "output_type": "stream",
     "text": [
      "inserisci un numero intero positivo:5\n",
      "La somma dei primi 5 numeri interi è: 15\n"
     ]
    }
   ],
   "source": [
    "n = int(input(\"inserisci un numero intero positivo:\"))\n",
    "somma=0\n",
    "for numero in range(1, n+1):\n",
    "    somma += numero\n",
    "print(\"La somma dei primi\", n, \"numeri interi è:\", somma) #Se il numero impostato è 5, sarebbe l'equivalente di 1+2+3+4+5."
   ]
  },
  {
   "cell_type": "code",
   "execution_count": 4,
   "id": "b7cf6219",
   "metadata": {},
   "outputs": [
    {
     "name": "stdout",
     "output_type": "stream",
     "text": [
      "inserisci un numero intero positivo: 5\n",
      "Quadrati dei primi 5 numeri:\n",
      "Il quadrato di 5 è 25\n"
     ]
    }
   ],
   "source": [
    "n = int(input(\"inserisci un numero intero positivo: \"))\n",
    "\n",
    "print(\"Quadrati dei primi\", n, \"numeri:\")\n",
    "\n",
    "for numero in range(1, n + 1):\n",
    "    quadrato = numero **2 #i 2 asterischi ** equivalgono all'elevazione di un numero.\n",
    "print(\"Il quadrato di\", numero, \"è\", quadrato) #Quando indentato, il programma stamperà il quadrato di ogni numero fino a quello inserito, 5. Se levato, stamperà solo il quadrato del numero inserito."
   ]
  },
  {
   "cell_type": "code",
   "execution_count": 5,
   "id": "6268abd9",
   "metadata": {},
   "outputs": [
    {
     "name": "stdout",
     "output_type": "stream",
     "text": [
      "inserisci un numero: 5\n",
      "5 è un numero dispari.\n"
     ]
    }
   ],
   "source": [
    "#Verificare la Parità\n",
    "numero = int(input(\"inserisci un numero: \"))\n",
    "\n",
    "if numero % 2 == 0: #:Se il numero è divisibile per 2 con resto 0.\n",
    "    print(numero, \"è un numero pari.\")\n",
    "else:\n",
    "    print(numero, \"è un numero dispari.\")"
   ]
  },
  {
   "cell_type": "code",
   "execution_count": 9,
   "id": "d16598dd",
   "metadata": {},
   "outputs": [
    {
     "name": "stdout",
     "output_type": "stream",
     "text": [
      "inserisci un numero intero positivo: 4\n",
      "Il fattoriale di 4 è: 24\n"
     ]
    }
   ],
   "source": [
    "#Calcolare il Fattoriale\n",
    "n = int(input(\"inserisci un numero intero positivo: \"))\n",
    "fattoriale = 1\n",
    "\n",
    "for numero in range(1, n + 1):\n",
    "    fattoriale = fattoriale*numero\n",
    "    \n",
    "print(\"Il fattoriale di\", n, \"è:\", fattoriale)"
   ]
  },
  {
   "cell_type": "code",
   "execution_count": 1,
   "id": "d9e5a5a4",
   "metadata": {},
   "outputs": [
    {
     "name": "stdout",
     "output_type": "stream",
     "text": [
      "Quanti numeri vuoi inserire? 3\n",
      "Inserisci un numero : 1\n",
      "Inserisci un numero : 2\n",
      "Inserisci un numero : 3\n",
      "La media dei numeri inseriti è:  2.0 la lista completa è: [1.0, 2.0, 3.0]\n"
     ]
    }
   ],
   "source": [
    "#Calcolatore di media numerica\n",
    "numeri = []\n",
    "n = int(input(\"Quanti numeri vuoi inserire? \")) #int = integer, numero intero\n",
    "for i in range(n):\n",
    "    numero = float(input(\"Inserisci un numero : \")) #float = floating point, numero con la virgola.\n",
    "    numeri.append(numero) #append = ad ogni iterazione, mette il numero inserito nella lista\n",
    "    \n",
    "media = sum(numeri) / len(numeri) #sum = sum, somma gli elementi nella lista // len = length, divide per il numero degli elementi della lista.\n",
    "print(\"La media dei numeri inseriti è: \", media,\"la lista completa è:\", numeri)"
   ]
  },
  {
   "cell_type": "code",
   "execution_count": 4,
   "id": "ab561845",
   "metadata": {},
   "outputs": [
    {
     "name": "stdout",
     "output_type": "stream",
     "text": [
      "Indovina il numero (1-100)50\n",
      "Il numero è più piccolo.\n",
      "Indovina il numero (1-100)40\n",
      "Il numero è più grande.\n",
      "Indovina il numero (1-100)45\n",
      "Il numero è più piccolo.\n",
      "Indovina il numero (1-100)42\n",
      "Il numero è più piccolo.\n",
      "Indovina il numero (1-100)41\n",
      "Bravo! Hai indovinato il numero 41 in 5 tentativi.\n"
     ]
    }
   ],
   "source": [
    "#Indovina il numero\n",
    "import random\n",
    "numero_da_indovinare = random.randint(1, 100) #randint = random-integer, numero intero randomizzato nella fascia di numeri da 1 a 100.\n",
    "tentativi = 0\n",
    "\n",
    "while True:\n",
    "    tentativo = int(input(\"Indovina il numero (1-100)\"))\n",
    "    tentativi += 1 #aumentano i tentativi per ogni prova\n",
    "    \n",
    "    if tentativo == numero_da_indovinare: #se indovinato correttamente\n",
    "        print(\"Bravo! Hai indovinato il numero\", numero_da_indovinare, \"in\", tentativi, \"tentativi.\")\n",
    "        break #ferma tutto il ciclo While\n",
    "#altrimenti, se non lo indovino:\n",
    "    elif tentativo < numero_da_indovinare:\n",
    "        print(\"Il numero è più grande.\")\n",
    "    else:\n",
    "        print(\"Il numero è più piccolo.\")"
   ]
  },
  {
   "cell_type": "code",
   "execution_count": 7,
   "id": "1ca270f8",
   "metadata": {},
   "outputs": [
    {
     "name": "stdout",
     "output_type": "stream",
     "text": [
      "Benvenuti al gioco della morra cinese!\n",
      "Scegli la tua mossa (carta, forbici, sasso): carta\n",
      "il giocatore ha scelto: forbici\n",
      "hai perso!\n"
     ]
    }
   ],
   "source": [
    "#Gioco della Morra Cinese/Carta-Forbice-Sasso\n",
    "import random\n",
    "\n",
    "mosse = [\"carta\", \"forbici\", \"sasso\"]\n",
    "\n",
    "computer_mossa = random.choice(mosse) #il computer (CPU) sceglierà casualmente una delle 3 mosse disponibili.\n",
    "\n",
    "print(\"Benvenuti al gioco del morra cinese!\")\n",
    "scelta_giocatore = input(\"Scegli la tua mossa (carta, forbici, sasso): \")\n",
    "\n",
    "if scelta_giocatore not in mosse: #se la mossa inserita non è una delle 3 mosse disponibili, stampa \"mossa non permessa\".\n",
    "    print(\"mossa non permessa\")\n",
    "else:\n",
    "    print(\"il giocatore ha scelto:\", computer_mossa) #il giocatore (CPU) ha scelto (mossa randomizzata di python)\n",
    "    if scelta_giocatore == computer_mossa: #se la tua mossa inserita è pari a quella del CPU, print \"pareggio\".\n",
    "        print(\"Pareggio!\")\n",
    "    elif (scelta_giocatore == \"carta\" and computer_mossa == \"sasso\") or \\\n",
    "                 (scelta_giocatore == \"forbici\" and computer_mossa == \"carta\") or \\\n",
    "                 (scelta_giocatore == \"sasso\" and computer_mossa == \"forbici\"):\n",
    "                 print(\"hai vinto!\")\n",
    "    else:\n",
    "        print(\"hai perso!\")"
   ]
  },
  {
   "cell_type": "code",
   "execution_count": 9,
   "id": "b7aab6e6",
   "metadata": {},
   "outputs": [
    {
     "name": "stdout",
     "output_type": "stream",
     "text": [
      "inserisci un numero intero: 5\n",
      "il fattoriale di 5 è 120\n"
     ]
    }
   ],
   "source": [
    "numero=int(input(\"inserisci un numero intero: \"))\n",
    "\n",
    "fattoriale=1\n",
    "\n",
    "if fattoriale<0:\n",
    "    print(\"numero negativo\")\n",
    "elif fattoriale==0:\n",
    "    print(\"il fattoriale di zero è 1\")\n",
    "else:\n",
    "    for numero in range(1, numero+1):\n",
    "        fattoriale*=numero\n",
    "print(f\"il fattoriale di {numero} è {fattoriale}\") #f=f-string - Concede di mettere le variabili (in graffe) in un singolo commando tra virgolette"
   ]
  },
  {
   "cell_type": "code",
   "execution_count": 3,
   "id": "679ff62a",
   "metadata": {},
   "outputs": [
    {
     "name": "stdout",
     "output_type": "stream",
     "text": [
      "inserisci un numero intero positivo N: 4\n",
      "la somma dei primi 4 numeri pari è 20\n"
     ]
    }
   ],
   "source": [
    "#Chiedere all'utente di inserire un numero intero positivo N\n",
    "N=int(input(\"inserisci un numero intero positivo N: \"))\n",
    "\n",
    "#inizializzare la somma a zero\n",
    "somma = 0\n",
    "\n",
    "#calcolare la somma dei primi numeri N numeri pari\n",
    "for numero in range (2,2*N+1,2):\n",
    "    somma+=numero\n",
    "    \n",
    "print(f\"la somma dei primi {N} numeri pari è {somma}\")"
   ]
  },
  {
   "cell_type": "code",
   "execution_count": 6,
   "id": "a068be3a",
   "metadata": {},
   "outputs": [
    {
     "name": "stdout",
     "output_type": "stream",
     "text": [
      "Inserisci un numero intero positivo N: 10\n",
      "[2, 4, 6, 8, 10, 12, 14, 16, 18, 20]\n"
     ]
    }
   ],
   "source": [
    "#Chiedere all'utente di inserire un numero intero positivo N\n",
    "N=int(input(\"Inserisci un numero intero positivo N: \"))\n",
    "lista=[]\n",
    "\n",
    "#Calcolare la somma dei numeri N/numeri pari\n",
    "for numero in range(2,2*N+1,2):\n",
    "    lista.append(numero)\n",
    "    \n",
    "print(lista)"
   ]
  },
  {
   "cell_type": "code",
   "execution_count": 8,
   "id": "d76a474c",
   "metadata": {},
   "outputs": [
    {
     "name": "stdout",
     "output_type": "stream",
     "text": [
      "Inserisci una frase o una parola: questa è una frase\n",
      "Nella frase inserita ci sono 7 vocali.\n"
     ]
    }
   ],
   "source": [
    "#Chiedi all'utente di inserire una frase o una parola\n",
    "frase=input(\"Inserisci una frase o una parola: \").lower() #Converte tutto in minuscolo per semplificare il conteggio\n",
    "\n",
    "#Inizializza il contatore delle vocali\n",
    "conteggio_vocali = 0\n",
    "\n",
    "#Definisci le vocali da cercare\n",
    "vocali = \"aeiou\"\n",
    "\n",
    "#Scansiona ogni carattere della frase\n",
    "for carattere in frase: #Per ogni 'carattere' contenuto in 'frase'\n",
    "    #Verifica se il carattere è una vocale\n",
    "    if carattere in vocali:\n",
    "        conteggio_vocali += 1\n",
    "        \n",
    "#Stampa il conteggio delle vocali\n",
    "print(f\"Nella frase inserita ci sono {conteggio_vocali} vocali.\")"
   ]
  },
  {
   "cell_type": "code",
   "execution_count": 13,
   "id": "e19702aa",
   "metadata": {},
   "outputs": [
    {
     "name": "stdout",
     "output_type": "stream",
     "text": [
      "indovina il numero del dado (da 1 a 6): 1\n",
      "complimenti! il numero del dado era 1. Hai indovinato!\n"
     ]
    }
   ],
   "source": [
    "import random\n",
    "\n",
    "#Genera un numero casuale da 1 a 6 (simulando il lancio di un dado)\n",
    "numero_dado = random.randint(1, 6)\n",
    "\n",
    "#Chiedi all'utente di indovinare il numero\n",
    "indovina = int(input(\"indovina il numero del dado (da 1 a 6): \"))\n",
    "\n",
    "#Verifica se l'utente ha indovinato correttamente\n",
    "if numero <1 or indovina >6:\n",
    "    print(\"numero non ammesso\")\n",
    "elif indovina == numero_dado:\n",
    "    print(f\"complimenti! il numero del dado era {numero_dado}. Hai indovinato!\")\n",
    "else:\n",
    "    print(f\"mi dispiace, il numero del dado era {numero_dado}. Riprova :)\")"
   ]
  },
  {
   "cell_type": "code",
   "execution_count": 1,
   "id": "b198033f",
   "metadata": {},
   "outputs": [
    {
     "name": "stdout",
     "output_type": "stream",
     "text": [
      "inserire popolazione iniziale: 10000\n",
      "inserisci numero di anni da simulare: 10\n",
      "Inserisci tasso natalità: 2.3\n",
      "Inserisci tasso mortalità: 1.2\n",
      "Anno 1: Popolazione = 10110\n",
      "Anno 2: Popolazione = 10221\n",
      "Anno 3: Popolazione = 10333\n",
      "Anno 4: Popolazione = 10447\n",
      "Anno 5: Popolazione = 10562\n",
      "Anno 6: Popolazione = 10678\n",
      "Anno 7: Popolazione = 10795\n",
      "Anno 8: Popolazione = 10914\n",
      "Anno 9: Popolazione = 11034\n",
      "Anno 10: Popolazione = 11156\n",
      "Simulazione completata.\n"
     ]
    }
   ],
   "source": [
    "#Inizializza la popolazione e gli anni\n",
    "popolazione = int(input(\"inserire popolazione iniziale: \"))\n",
    "anni = int(input(\"inserisci numero di anni da simulare: \"))\n",
    "#Tasso di natalità e tasso di mortalità (percentuale annuale)\n",
    "tasso_natalita = float(input(\"Inserisci tasso natalità: \"))\n",
    "tasso_mortalità = float(input(\"Inserisci tasso mortalità: \"))\n",
    "\n",
    "#simulazione della crescita della popolazione\n",
    "for anno in range(anni):\n",
    "    nascite = (popolazione * tasso_natalita) / 100\n",
    "    morti = (popolazione * tasso_mortalità) / 100\n",
    "    popolazione += (nascite - morti)\n",
    "    \n",
    "    print(f\"Anno {anno+1}: Popolazione = {int(popolazione)}\")\n",
    "    \n",
    "print(\"Simulazione completata.\")"
   ]
  },
  {
   "cell_type": "code",
   "execution_count": 4,
   "id": "fb8caf79",
   "metadata": {},
   "outputs": [
    {
     "name": "stdout",
     "output_type": "stream",
     "text": [
      "oggi è il giorno: 05 10 2023 ore: 08 08 59\n"
     ]
    }
   ],
   "source": [
    "import datetime\n",
    "\n",
    "today = datetime.datetime.today()\n",
    "print(f\"oggi è il giorno: {today:%d %m %Y} ore: {today:%H %M %S}\")"
   ]
  },
  {
   "cell_type": "code",
   "execution_count": 5,
   "id": "445acd68",
   "metadata": {},
   "outputs": [
    {
     "name": "stdout",
     "output_type": "stream",
     "text": [
      "Benvenuto nel convertitore di Unità di Misura!\n",
      "Cosa desideri convertire? (metri, piedi, chilogrammi/libbre): metri\n",
      "Inserisci il valore in metri: 160\n",
      "160.0 metri corrispondono a 524.9344 piedi.\n"
     ]
    }
   ],
   "source": [
    "print(\"Benvenuto nel convertitore di Unità di Misura!\")\n",
    "scelta = input(\"Cosa desideri convertire? (metri, piedi, chilogrammi/libbre): \").lower()\n",
    "\n",
    "if scelta == \"metri\":\n",
    "    valore = float(input(\"Inserisci il valore in metri: \"))\n",
    "    risultato = valore * 3.28084\n",
    "    print(f\"{valore} metri corrispondono a {risultato} piedi.\")\n",
    "elif scelta == \"piedi\":\n",
    "    valore = float(input(\"Inserisci il valore in piedi: \"))\n",
    "    risultato = valore * 3.28084\n",
    "    print(f\"{valore} piedi corrispondono a {risultato} metri.\")\n",
    "elif scelta == \"chilogrammi\":\n",
    "    valore = float(input(\"Inserisci il valore in chilogrammi: \"))\n",
    "    risultato = valore * 2.20462\n",
    "    print(f\"{valore} chilogrammi corrispondono a {risultato} libbre.\")\n",
    "elif scelta == \"libbre\":\n",
    "    valore = float(input(\"Inserisci il valore in libbre: \"))\n",
    "    risultato = valore * 2.20462\n",
    "    print(f\"{valore} libbre corrispondono a {risultato} chilogrammi.\")\n",
    "else:\n",
    "    print(\"Scelta non valida. Scegli tra metri, piedi, chilogrammi o libbre.\")"
   ]
  },
  {
   "cell_type": "code",
   "execution_count": 7,
   "id": "3dd3d6c6",
   "metadata": {},
   "outputs": [
    {
     "name": "stdout",
     "output_type": "stream",
     "text": [
      "Inserire un numero n per calcolare l'n-esimo numero di Fibonacci: 10\n",
      "L'n-esimo numero di Fibonacci è:  34\n"
     ]
    }
   ],
   "source": [
    "# chiedere all'utente di inserire un numero n\n",
    "n = int(input(\"Inserire un numero n per calcolare l'n-esimo numero di Fibonacci: \"))\n",
    "# inizializzare le variabili per i primi due numeri di Fibonacci\n",
    "a=0\n",
    "b=1\n",
    "c=1\n",
    "\n",
    "# calcolare l'n-esimo numero di Fibonacci\n",
    "if n <= 0:\n",
    "    print(\"Il numero deve essere maggiore di zero.\")\n",
    "elif n == 1:\n",
    "    risultato = a\n",
    "else:\n",
    "    for iterazione in range(n-3):\n",
    "        a = b\n",
    "        b = c\n",
    "        c = a + b\n",
    "    risultato = c\n",
    "# stampare l'n-esimo numero di Fibonacci\n",
    "print(\"L'n-esimo numero di Fibonacci è: \", risultato)"
   ]
  },
  {
   "cell_type": "code",
   "execution_count": 8,
   "id": "7af887ee",
   "metadata": {},
   "outputs": [],
   "source": [
    "# Funzioni custom\n",
    "def fibonacci(n): # n = l'n-esimo numero che voglio trovare\n",
    "    fib_series = [0, 1] # = fibonacci_series\n",
    "    \n",
    "    while len(fib_series) < n: # deve contare finché raggiunge n\n",
    "        fib_series.append(fib_series[-1] + fib_series[-2]) # ad ogni iterazione, appendi la somma dell'ultimo e del penultimo fino ad arrivare a n\n",
    "        \n",
    "    return fib_series\n",
    "\n"
   ]
  },
  {
   "cell_type": "code",
   "execution_count": 9,
   "id": "cfdc1bd9",
   "metadata": {},
   "outputs": [
    {
     "data": {
      "text/plain": [
       "[0, 1, 1, 2, 3, 5, 8, 13, 21, 34]"
      ]
     },
     "execution_count": 9,
     "metadata": {},
     "output_type": "execute_result"
    }
   ],
   "source": [
    "fibonacci(10)"
   ]
  },
  {
   "cell_type": "code",
   "execution_count": 10,
   "id": "4a53b05b",
   "metadata": {},
   "outputs": [
    {
     "name": "stdout",
     "output_type": "stream",
     "text": [
      "Inserisci il numero di termini della serie di Fibonacci da generare: 10\n",
      "[0, 1, 1, 2, 3, 5, 8, 13, 21, 34]\n"
     ]
    }
   ],
   "source": [
    "# stesso comando ma senza funzioni custom:\n",
    "n = int(input(\"Inserisci il numero di termini della serie di Fibonacci da generare: \"))\n",
    "\n",
    "if n <= 0:\n",
    "    print(\"Inserisci un numero positivo.\")\n",
    "else:\n",
    "    result = fibonacci(n)\n",
    "    print(result)"
   ]
  },
  {
   "cell_type": "code",
   "execution_count": 1,
   "id": "1145cb00",
   "metadata": {},
   "outputs": [],
   "source": [
    "import math\n",
    "\n",
    "def calcola_area_cerchio(raggio): # def = definisci\n",
    "    return math.pi * (raggio ** 2)\n",
    "\n",
    "def calcola_area_rettangolo(base, altezza): \n",
    "    return base * altezza\n",
    "\n",
    "def calcola_area_triangolo(base, altezza):\n",
    "    return (base * altezza) / 2"
   ]
  },
  {
   "cell_type": "code",
   "execution_count": 2,
   "id": "648d3936",
   "metadata": {},
   "outputs": [
    {
     "name": "stdout",
     "output_type": "stream",
     "text": [
      "Benvenuto nella calcolatrice di Aree!\n",
      "Vuoi calcolare l'area di un cerchio (c), rettangolo (r), o triangolo (t)?r\n",
      "Inserisci la base del rettangolo: 40\n",
      "inserisci l'altezza del rettangolo: 40\n",
      "L'area del rettangolo è 1600.00\n"
     ]
    }
   ],
   "source": [
    "print(\"Benvenuto nella calcolatrice di Aree!\")\n",
    "\n",
    "scelta = input(\"Vuoi calcolare l'area di un cerchio (c), rettangolo (r), o triangolo (t)?\")\n",
    "\n",
    "if scelta == 'c':\n",
    "    raggio = float(input(\"Inserisci il raggio del cerchio: \"))\n",
    "    area = calcola_area_cerchio(raggio)\n",
    "    print(f\"L'area del cerchio è {area:.2f}\")\n",
    "elif scelta == 'r':\n",
    "    base = float(input(\"Inserisci la base del rettangolo: \"))\n",
    "    altezza = float(input(\"inserisci l'altezza del rettangolo: \"))\n",
    "    area = calcola_area_rettangolo(base, altezza)\n",
    "    print(f\"L'area del rettangolo è {area:.2f}\")\n",
    "elif scelta == 't':\n",
    "    base = float(input(\"Inserisci la base del triangolo: \"))\n",
    "    altezza = float(input(\"inserisci l'altezza del triangolo: \"))\n",
    "    area = calcola_area_triangolo(base, altezza)\n",
    "    print(f\"L'area del triangolo è {area:.2f}\")\n",
    "else:\n",
    "    print(\"Scelta non valida. Si prega di inserire 'c', 'r', o 't'.\")"
   ]
  },
  {
   "cell_type": "code",
   "execution_count": 1,
   "id": "d7e4e072",
   "metadata": {},
   "outputs": [],
   "source": [
    "def calcola_interessi(importo_iniziale, tasso_interesse, periodi_investimento):\n",
    "    importo_finale = importo_iniziale * (1 + tasso_interesse / 100) ** periodi_investimento\n",
    "    return importo_finale"
   ]
  },
  {
   "cell_type": "code",
   "execution_count": 3,
   "id": "e215d53b",
   "metadata": {},
   "outputs": [
    {
     "name": "stdout",
     "output_type": "stream",
     "text": [
      "Benvenuto al calcolatore di interessi!\n",
      "Inserisci l'importo iniziale: 100\n",
      "Inserisci il tasso di interesse annuale (%): 5\n",
      "Inserisci il periodo di investimento (anni): 2\n",
      "L'importo finale dopo 2 anni è di 110.25 euro.\n"
     ]
    }
   ],
   "source": [
    "print(\"Benvenuto al calcolatore di interessi!\")\n",
    "\n",
    "importo = float(input(\"Inserisci l'importo iniziale: \"))\n",
    "tasso = float(input(\"Inserisci il tasso di interesse annuale (%): \"))\n",
    "periodo = int(input(\"Inserisci il periodo di investimento (anni): \"))\n",
    "\n",
    "importo_finale = calcola_interessi(importo, tasso, periodo)\n",
    "\n",
    "print(f\"L'importo finale dopo {periodo} anni è di {importo_finale:.2f} euro.\")"
   ]
  },
  {
   "cell_type": "code",
   "execution_count": 4,
   "id": "84f8e38a",
   "metadata": {},
   "outputs": [],
   "source": [
    "def forza_gravitazionale(m1, m2, r):\n",
    "    # costante gravitazionale\n",
    "    G = 6.67430e-11 # N(m/kg)^2\n",
    "    \n",
    "    # Calcolo della forza gravitazionale\n",
    "    F = (G * m1 * m2) / (r ** 2)\n",
    "    \n",
    "    return F"
   ]
  },
  {
   "cell_type": "code",
   "execution_count": 5,
   "id": "80412d90",
   "metadata": {},
   "outputs": [
    {
     "name": "stdout",
     "output_type": "stream",
     "text": [
      "Forza gravitazionale tra la terra e la luna: 1.9804922390990568e+22 Newton\n"
     ]
    }
   ],
   "source": [
    "# Esempio di utilizzo\n",
    "massa_terra = 5.972e24 #kg\n",
    "massa_luna = 7.342e22 #kg\n",
    "distanza_terra_luna = 38440000 #metri\n",
    "\n",
    "forza = forza_gravitazionale(massa_terra, massa_luna, distanza_terra_luna)\n",
    "print(f\"Forza gravitazionale tra la terra e la luna: {forza} Newton\")"
   ]
  },
  {
   "cell_type": "code",
   "execution_count": 2,
   "id": "3482f50f",
   "metadata": {},
   "outputs": [],
   "source": [
    "from itertools import permutations\n",
    "k=0\n",
    "\n",
    "def trova_anagrammi(parola):\n",
    "    anagrammi = [\"\".join(p) for p in permutations(parola)]\n",
    "    return anagrammi\n"
   ]
  },
  {
   "cell_type": "code",
   "execution_count": 3,
   "id": "1b4bd593",
   "metadata": {},
   "outputs": [
    {
     "name": "stdout",
     "output_type": "stream",
     "text": [
      "Benvenuto nel risolutore di anagrammi!\n",
      "Inserisci una parola: mari\n",
      "mair\n",
      "mrai\n",
      "mria\n",
      "miar\n",
      "mira\n",
      "amri\n",
      "amir\n",
      "armi\n",
      "arim\n",
      "aimr\n",
      "airm\n",
      "rmai\n",
      "rmia\n",
      "rami\n",
      "raim\n",
      "rima\n",
      "riam\n",
      "imar\n",
      "imra\n",
      "iamr\n",
      "iarm\n",
      "irma\n",
      "iram\n",
      "Gli anagrammi di 'mari' sono: '23'\n"
     ]
    }
   ],
   "source": [
    "print(\"Benvenuto nel risolutore di anagrammi!\")\n",
    "\n",
    "parola_input = input(\"Inserisci una parola: \").strip().lower()\n",
    "if len(parola_input) < 2:\n",
    "    print(\"Inserisci una parola con almeno 2 caratteri.\")\n",
    "else:\n",
    "    anagrammi = trova_anagrammi(parola_input)\n",
    "    \n",
    "    for elemento in anagrammi:\n",
    "        if elemento != parola_input:\n",
    "            k+=1\n",
    "            print(elemento)\n",
    "    print(f\"Gli anagrammi di '{parola_input}' sono: '{k}'\")"
   ]
  },
  {
   "cell_type": "code",
   "execution_count": 2,
   "id": "6287729a",
   "metadata": {},
   "outputs": [
    {
     "name": "stdout",
     "output_type": "stream",
     "text": [
      "Inserisci l'importo da convertire: 15\n",
      "Inserisci la valuta di partenza: euro\n",
      "Inserisci la avaluta di destinazione: dollari\n",
      "15.0 euro sono equivalenti a 17.65 dollari\n"
     ]
    }
   ],
   "source": [
    "# Definizione dei tassi di cambio\n",
    "\n",
    "tassi_di_cambio = {\n",
    "    \"dollari\": 1.0,\n",
    "    \"euro\": 0.85,\n",
    "    \"yen\": 110.41, # Aggiungi altre valute e tassi di cambio se necessario\n",
    "}\n",
    "# Chiedi all'utente di inserire l'importo, la valuta di partenza e la valuta di destinazione\n",
    "importo = float(input(\"Inserisci l'importo da convertire: \"))\n",
    "valuta_di_partenza = input(\"Inserisci la valuta di partenza: \").lower()\n",
    "valuta_destinazione = input(\"Inserisci la avaluta di destinazione: \").lower()\n",
    "\n",
    "#Verifica se le valute sono nel dizionario dei tassi di cambio\n",
    "if valuta_di_partenza in tassi_di_cambio and valuta_destinazione in tassi_di_cambio:\n",
    "    # Calcola il tasso di cambio e l'importo convertito\n",
    "    tasso_di_cambio = tassi_di_cambio[valuta_destinazione] / tassi_di_cambio[valuta_di_partenza]\n",
    "    importo_convertito = importo * tasso_di_cambio\n",
    "    \n",
    "    # Stampa il risultato\n",
    "    print(f\"{importo} {valuta_di_partenza} sono equivalenti a {importo_convertito:.2f} {valuta_destinazione}\")\n",
    "else:\n",
    "    print(\"Valuta non supportate. Assicurati di inserire valute valide.\")"
   ]
  },
  {
   "cell_type": "code",
   "execution_count": 4,
   "id": "aa5690f0",
   "metadata": {},
   "outputs": [
    {
     "name": "stdout",
     "output_type": "stream",
     "text": [
      "Inserisci una frase: quante lettere ho?\n",
      "a: 1\n",
      "e: 4\n",
      "h: 1\n",
      "l: 1\n",
      "n: 1\n",
      "o: 1\n",
      "q: 1\n",
      "r: 1\n",
      "t: 3\n",
      "u: 1\n"
     ]
    }
   ],
   "source": [
    "# Chiedi all'utente di inserire una frase\n",
    "frase = input(\"Inserisci una frase: \")\n",
    "\n",
    "# Converti la frase in minuscolo\n",
    "frase = frase.lower()\n",
    "\n",
    "# Inizializza una lista di lettere dell'alfabero\n",
    "alfabeto = 'abcdefghijklmnopqrstuvxyz'\n",
    "\n",
    "# Inizializza un dizionario per tenere traccia del conteggio delle lettere\n",
    "conteggio_lettere = {}\n",
    "\n",
    "for lettera in alfabeto:\n",
    "    conteggio = frase.count(lettera) #conta quante volte appare la lettera nella frase\n",
    "    if conteggio > 0:\n",
    "        conteggio_lettere[lettera] = conteggio\n",
    "        \n",
    "for lettera, conteggio in conteggio_lettere.items():\n",
    "    print(f\"{lettera}: {conteggio}\")"
   ]
  },
  {
   "cell_type": "code",
   "execution_count": null,
   "id": "3505db47",
   "metadata": {},
   "outputs": [],
   "source": [
    "# Metodo 1 di dizionario\n",
    "prodotti = {} #dizionario vuoto\n",
    "prodotti[\"pan bauletto\"]=2 #riempi con lista\n",
    "prodotti[\"coca cola\"]=3"
   ]
  },
  {
   "cell_type": "code",
   "execution_count": 1,
   "id": "bf6371c9",
   "metadata": {},
   "outputs": [
    {
     "data": {
      "text/plain": [
       "{'pan bauletto': 2, 'coca cola': 3}"
      ]
     },
     "execution_count": 1,
     "metadata": {},
     "output_type": "execute_result"
    }
   ],
   "source": [
    "# Metodo 2 di dizionario\n",
    "prodottidue={\n",
    "    \"pan bauletto\":2,\n",
    "    \"coca cola\":3\n",
    "}\n",
    "prodottidue"
   ]
  },
  {
   "cell_type": "code",
   "execution_count": 2,
   "id": "11e912a8",
   "metadata": {
    "scrolled": true
   },
   "outputs": [
    {
     "name": "stdout",
     "output_type": "stream",
     "text": [
      "Benvenuto nell'Orologio Mondiale!\n",
      "\n",
      "Città disponibili:\n",
      "New York\n",
      "Londra\n",
      "Tokyo\n",
      "Sydney\n",
      "Rio de Janeiro\n",
      "Inserisci il nome di una città per visualizzarne l'orario (o 'esci' per uscire): New York\n",
      "l'ora corrente a New York è: 07:28:02\n",
      "\n",
      "Città disponibili:\n",
      "New York\n",
      "Londra\n",
      "Tokyo\n",
      "Sydney\n",
      "Rio de Janeiro\n",
      "Inserisci il nome di una città per visualizzarne l'orario (o 'esci' per uscire): esci\n"
     ]
    }
   ],
   "source": [
    "from datetime import datetime\n",
    "import pytz\n",
    "\n",
    "print(\"Benvenuto nell'Orologio Mondiale!\")\n",
    "#Definisci le città e i fusi orari\n",
    "citta_fusi_orari = {\n",
    "    \"New York\": \"America/New_York\",\n",
    "    \"Londra\": \"Europe/London\",\n",
    "    \"Tokyo\": \"Asia/Tokyo\",\n",
    "    \"Sydney\": \"Australia/Sydney\",\n",
    "    \"Rio de Janeiro\": \"America/Sao_Paulo\",\n",
    "}\n",
    "\n",
    "while True: # Ripeterà sempre a meno che non scrivo \"esci\", ovvero break.\n",
    "    print(\"\\nCittà disponibili:\") # \\n = new line, stampa il testo inserito a capo piuttosto che di fianco.\n",
    "    for citta in citta_fusi_orari.keys():\n",
    "        print(citta)\n",
    "        \n",
    "    scelta_citta = input(\"Inserisci il nome di una città per visualizzarne l'orario (o 'esci' per uscire): \").strip()\n",
    "    if scelta_citta.lower() == 'esci':\n",
    "        break\n",
    "        \n",
    "    if scelta_citta in citta_fusi_orari.keys():\n",
    "        fuso_orario = pytz.timezone(citta_fusi_orari[scelta_citta])\n",
    "        ora_corrente = datetime.now(fuso_orario)\n",
    "        print(f\"l'ora corrente a {scelta_citta} è: {ora_corrente.strftime('%H:%M:%S')}\") # Hour, minute, second.\n",
    "    else:\n",
    "        print(\"Città non valida. Riprova.\")"
   ]
  },
  {
   "cell_type": "code",
   "execution_count": 3,
   "id": "bd970107",
   "metadata": {},
   "outputs": [
    {
     "name": "stdout",
     "output_type": "stream",
     "text": [
      "Mi chiamo paolo.\n"
     ]
    }
   ],
   "source": [
    "# Funzione principale può avere qualsiasi nome\n",
    "def paolo():\n",
    "    print(\"Mi chiamo paolo.\") # non lo printa a meno che non metto __main__\n",
    "    \n",
    "if __name__ == \"__main__\": #è una condizione logica che \"si verifica sempre\" e quindi tutto ciò che risulta indentato a questa condizione verrà eseguito\n",
    "    \n",
    "    paolo()"
   ]
  },
  {
   "cell_type": "code",
   "execution_count": 4,
   "id": "873c03a8",
   "metadata": {},
   "outputs": [
    {
     "name": "stdout",
     "output_type": "stream",
     "text": [
      "La funzione principale del codice è stata eseguita.\n"
     ]
    }
   ],
   "source": [
    "def main():\n",
    "    print(\"La funzione principale del codice è stata eseguita.\")\n",
    "    \n",
    "if __name__ == \"__main__\":\n",
    "    main()"
   ]
  },
  {
   "cell_type": "code",
   "execution_count": 10,
   "id": "fb5cc7d1",
   "metadata": {},
   "outputs": [
    {
     "name": "stdout",
     "output_type": "stream",
     "text": [
      "Benvenuto nella calcolatrice di BMI!\n",
      "Inserisci il tuo peso in chilogrammi: 50\n",
      "Inserisci la tua altezza in metri: 1.60\n",
      "Il tuo BMI è 19.531250, sei classificato come 'Normopeso'.\n"
     ]
    }
   ],
   "source": [
    "#main\n",
    "# Funzione per il calcolo del BMI\n",
    "def calcola_bmi(peso, altezza):\n",
    "    return peso / (altezza **2)\n",
    "\n",
    "# Funzione per la valutazione del BMI\n",
    "def valuta_bmi(bmi):\n",
    "    if bmi < 18.5:\n",
    "        return \"Sottopeso\"\n",
    "    elif 18.5 <= bmi < 24.9:\n",
    "        return \"Normopeso\"\n",
    "    elif 25 <= bmi < 29.9:\n",
    "        return \"Sovrappeso\"\n",
    "    else:\n",
    "        return \"Obeso\"\n",
    "\n",
    "# Funzione principale\n",
    "def main():\n",
    "    print(\"Benvenuto nella calcolatrice di BMI!\")\n",
    "    peso = float(input(\"Inserisci il tuo peso in chilogrammi: \"))\n",
    "    altezza = float(input(\"Inserisci la tua altezza in metri: \"))\n",
    "    bmi = calcola_bmi(peso, altezza)\n",
    "    valutazione = valuta_bmi(bmi)\n",
    "    print(f\"Il tuo BMI è {bmi:2f}, sei classificato come '{valutazione}'.\")\n",
    "    \n",
    "if __name__ == \"__main__\":\n",
    "    main()"
   ]
  },
  {
   "cell_type": "code",
   "execution_count": 1,
   "id": "e62ce0a4",
   "metadata": {},
   "outputs": [
    {
     "name": "stdout",
     "output_type": "stream",
     "text": [
      "Benvenuto nel convertitore di unità di misura!\n",
      "Cosa desideri convertire? (metri/piedi/chilogrammi/libre): chilogrammi\n",
      "Inserisci il valore in chilogrammi: 50\n",
      " 50.000 chilogrammi corrispondono a  110.231 libbre.\n"
     ]
    }
   ],
   "source": [
    "# Funzione per la conversione di metri in piedi\n",
    "def metri_a_piedi(metri):\n",
    "    return metri * 3.28084\n",
    "def piedi_a_metri(piedi):\n",
    "    return piedi / 3.28084\n",
    "# Funzione per la conversione di chilogrammi in libbre\n",
    "def chilogrammi_a_libbre(chilogrammi):\n",
    "    return chilogrammi * 2.20462\n",
    "def libbre_a_chilogrammi(libbre):\n",
    "    return libbre / 2.20462\n",
    "\n",
    "def selezione(scelta):\n",
    "    if scelta == \"metri\":\n",
    "        valore = float(input(\"Inserisci il valore in metri: \"))\n",
    "        risultato = metri_a_piedi(valore)\n",
    "        print(f\"{valore: .3f} metri corrispondono a {risultato: .3f} piedi.\")\n",
    "    elif scelta == \"piedi\":\n",
    "        valore = float(input(\"Inserisci il valore in piedi: \"))\n",
    "        risultato = piedi_a_metri(valore)\n",
    "        print(f\"{valore: .3f} piedi corrispondono a {risultato: .3f} metri.\")\n",
    "    elif scelta == \"chilogrammi\":\n",
    "        valore = float(input(\"Inserisci il valore in chilogrammi: \"))\n",
    "        risultato = chilogrammi_a_libbre(valore)\n",
    "        print(f\"{valore: .3f} chilogrammi corrispondono a {risultato: .3f} libbre.\")\n",
    "    elif scelta == \"libbre\":\n",
    "        valore = float(input(\"Inserisci il valore in libbre: \"))\n",
    "        risultato = libbre_a_chilogrammi(valore)\n",
    "        print(f\"{valore: .3f} libbre corrispondono a {risultato: .3f} chilogrammi.\")\n",
    "    else:\n",
    "        print(\"Scelta non valida. Scegli tra 'metri', 'piedi', 'chilogrammi' o 'libbre'.\")\n",
    "# Funzione principale\n",
    "def main():\n",
    "    print(\"Benvenuto nel convertitore di unità di misura!\")\n",
    "    scelta = input(\"Cosa desideri convertire? (metri/piedi/chilogrammi/libre): \")\n",
    "    selezione(scelta)\n",
    "if __name__ == \"__main__\":\n",
    "    main()"
   ]
  },
  {
   "cell_type": "code",
   "execution_count": 3,
   "id": "42e47f54",
   "metadata": {},
   "outputs": [
    {
     "name": "stdout",
     "output_type": "stream",
     "text": [
      "Menu: \n",
      "1. Aggiungi cibo consumato\n",
      "2. Calcola calorie totali\n",
      "3. Esci\n",
      "Scegli una opzione: 1\n",
      "\n",
      "Ecco l'elenco di cibi disponibili:\n",
      "Pizza: 285 calorie per 100g\n",
      "Hamburger: 250 calorie per 100g\n",
      "Insalata: 100 calorie per 100g\n",
      "Inserisci il cibo consumato: Pizza\n",
      "Inserisci la quantita in grammi: 2\n",
      "Menu: \n",
      "1. Aggiungi cibo consumato\n",
      "2. Calcola calorie totali\n",
      "3. Esci\n",
      "Scegli una opzione: 2\n",
      "Hai consumato un totale di 570.0 calorie.\n",
      "Menu: \n",
      "1. Aggiungi cibo consumato\n",
      "2. Calcola calorie totali\n",
      "3. Esci\n",
      "Scegli una opzione: 3\n",
      "Arrivederci!\n"
     ]
    }
   ],
   "source": [
    "cibo_calorie = {\n",
    "    \"pizza\": 285,\n",
    "    \"hamburger\": 250,\n",
    "    \"insalata\": 100,  \n",
    "}\n",
    "def calorie_consumate(cibo, quantita):\n",
    "    if cibo not in cibo_calorie.keys():\n",
    "        print(\"Cibo non presente.\")\n",
    "        return 0  \n",
    "    else:\n",
    "        return cibo_calorie[cibo] * quantita\n",
    "def main():\n",
    "    cibo_consumato = []  \n",
    "    while True:  \n",
    "        print(\"Menu: \")\n",
    "        print(\"1. Aggiungi cibo consumato\")\n",
    "        print(\"2. Calcola calorie totali\")\n",
    "        print(\"3. Esci\")\n",
    "        scelta = input(\"Scegli una opzione: \")\n",
    "        if scelta == \"1\":\n",
    "            print(\"\\nEcco l'elenco di cibi disponibili:\")\n",
    "            for key, value in cibo_calorie.items():\n",
    "                print(f\"{key.capitalize()}: {value} calorie per 100g\")\n",
    "            cibo = input(\"Inserisci il cibo consumato: \").lower()\n",
    "            quantita = float(input(\"Inserisci la quantita in grammi: \"))\n",
    "            cibo_consumato.append((cibo, quantita))\n",
    "        elif scelta == \"2\":\n",
    "            total_calories = sum(calorie_consumate(cibo, quantita) for cibo, quantita in cibo_consumato)\n",
    "            print(f\"Hai consumato un totale di {total_calories} calorie.\")\n",
    "        elif scelta == \"3\":\n",
    "            print(\"Arrivederci!\")\n",
    "            break\n",
    "        else:\n",
    "            print(\"Scelta non valida. Riprova.\")\n",
    "if __name__ == \"__main__\":\n",
    "    main()"
   ]
  },
  {
   "cell_type": "code",
   "execution_count": 4,
   "id": "7dd8941c",
   "metadata": {},
   "outputs": [
    {
     "name": "stdout",
     "output_type": "stream",
     "text": [
      "Personaggio fantasy generato: \n",
      "Specie: Elfo\n",
      "Classe: Chierico\n",
      "Arma: Arco\n",
      "Abilità: Fuoco, Cura, Gelo\n"
     ]
    }
   ],
   "source": [
    "# Creatore randomizzato di Personaggio\n",
    "import random\n",
    "speci=[\"Umano\", \"Elfo\", \"Nano\", \"Orco\"]\n",
    "classi=[\"Guerriero\", \"Mago\", \"Ladro\", \"Chierico\"]\n",
    "armi=[\"Spada\", \"Arco\", \"Bastone\", \"Pugnale\"]\n",
    "abilita=[\"Fuoco\", \"Gelo\", \"Cura\", \"Invisibilità\", \"Forza\", \"Velocità\"]\n",
    "\n",
    "\n",
    "specie=random.choice(speci)\n",
    "classe=random.choice(classi)\n",
    "arma=random.choice(armi)\n",
    "abilitas=random.sample(abilita, random.randint(1, 3))\n",
    "\n",
    "\n",
    "print(\"Personaggio fantasy generato: \")\n",
    "print(f\"Specie: {specie}\")\n",
    "print(f\"Classe: {classe}\")\n",
    "print(f\"Arma: {arma}\")\n",
    "print(f\"Abilità: {', '.join(abilitas)}\")"
   ]
  },
  {
   "cell_type": "code",
   "execution_count": 5,
   "id": "e3f47082",
   "metadata": {},
   "outputs": [
    {
     "name": "stdout",
     "output_type": "stream",
     "text": [
      "Personaggio fantasy generato: \n",
      "Inserisci il nome del personaggio: Orobas\n",
      "Nome: Orobas\n",
      "Aspetto fisico: Basso\n",
      "Aspetto personale: Audace\n",
      "Sfondo: Nobile\n",
      "Motivazione: Amore\n"
     ]
    }
   ],
   "source": [
    "# Creatore randomizzato di Personaggio 2\n",
    "import random\n",
    "\n",
    "physical_traits=[\"Capelli neri\", \"Capelli biondi\", \"Occhi azzurri\", \"Alto\", \"Basso\", \"Barba lunga\"]\n",
    "personality_traits=[\"Gentile\", \"Arrogante\", \"Timido\", \"Audace\", \"Curioso\"]\n",
    "backgrounds=[\"Contadino\", \"Nobile\", \"Guerriero\", \"Mercante\", \"Mago\"]\n",
    "motivations=[\"Vendetta\", \"Ricchezza\", \"Potere\", \"Amore\", \"Scoperta\"]\n",
    "\n",
    "def genera_personaggio():\n",
    "    nome=input(\"Inserisci il nome del personaggio: \")\n",
    "    aspetto_fisico=random.choice(physical_traits)\n",
    "    aspetto_personale=random.choice(personality_traits)\n",
    "    sfondo=random.choice(backgrounds)\n",
    "    motivazione=random.choice(motivations)\n",
    "\n",
    "    descrizione=(\n",
    "        f\"Nome: {nome}\\n\"\n",
    "        f\"Aspetto fisico: {aspetto_fisico}\\n\"\n",
    "        f\"Aspetto personale: {aspetto_personale}\\n\"\n",
    "        f\"Sfondo: {sfondo}\\n\"\n",
    "        f\"Motivazione: {motivazione}\"\n",
    "    )\n",
    "    return descrizione\n",
    "print(\"Personaggio fantasy generato: \")\n",
    "print(genera_personaggio())"
   ]
  },
  {
   "cell_type": "code",
   "execution_count": null,
   "id": "09b744da",
   "metadata": {},
   "outputs": [],
   "source": []
  }
 ],
 "metadata": {
  "kernelspec": {
   "display_name": "Python 3 (ipykernel)",
   "language": "python",
   "name": "python3"
  },
  "language_info": {
   "codemirror_mode": {
    "name": "ipython",
    "version": 3
   },
   "file_extension": ".py",
   "mimetype": "text/x-python",
   "name": "python",
   "nbconvert_exporter": "python",
   "pygments_lexer": "ipython3",
   "version": "3.11.4"
  }
 },
 "nbformat": 4,
 "nbformat_minor": 5
}
